{
  "cells": [
    {
      "cell_type": "markdown",
      "metadata": {
        "id": "view-in-github",
        "colab_type": "text"
      },
      "source": [
        "<a href=\"https://colab.research.google.com/github/monipip3/women_in_data_datathon/blob/main/Scraping_Glassdoor_Company_Reviews_parental_leave_only.ipynb\" target=\"_parent\"><img src=\"https://colab.research.google.com/assets/colab-badge.svg\" alt=\"Open In Colab\"/></a>"
      ]
    },
    {
      "cell_type": "markdown",
      "metadata": {
        "id": "0z0eMCUIKoI_"
      },
      "source": [
        "\n",
        "**[Check out the full post on my blog here.](https://bulletbyte.weebly.com/tech/how-to-scrape-a-companys-glassdoor-reviews-using-python)**"
      ]
    },
    {
      "cell_type": "markdown",
      "metadata": {
        "id": "ouFB9N4b9dhO"
      },
      "source": [
        "#1. Setting Up"
      ]
    },
    {
      "cell_type": "code",
      "execution_count": 1,
      "metadata": {
        "id": "ReCsIuyxxVmr"
      },
      "outputs": [],
      "source": [
        "#import the libraries\n",
        "import os\n",
        "import time\n",
        "import joblib\n",
        "import numpy as np\n",
        "import pandas as pd\n",
        "import math\n",
        "\n",
        "from bs4 import BeautifulSoup\n",
        "from urllib.request import Request, urlopen"
      ]
    },
    {
      "cell_type": "markdown",
      "metadata": {
        "id": "1OGSpZbdPH09"
      },
      "source": [
        "#2. Scraping Company Glassdoor Reviews - Global"
      ]
    },
    {
      "cell_type": "markdown",
      "metadata": {
        "id": "zVqvS4xa9Hvx"
      },
      "source": [
        "##2.1 Creating a Function to Scrape any Glassdoor Company review page (Global)\n"
      ]
    },
    {
      "cell_type": "code",
      "execution_count": 2,
      "metadata": {
        "id": "kTGXTj8N0KTK"
      },
      "outputs": [],
      "source": [
        "#create a function to scrape any Glassdoor company review page\n",
        "#the code still works when I run it on 7 Sep, 2021, but the html content of Glassdoor webpages changes all the time\n",
        "#please inspect the webpage and make the necessary changes to the html tags if any of the list returns empty\n",
        "\n",
        "def review_scraper(url=''):\n",
        "  #scraping the web page content\n",
        "  hdr = {'User-Agent': 'Mozilla/5.0'}\n",
        "\n",
        "  req = Request(url,headers=hdr)\n",
        "  page = urlopen(req)\n",
        "  soup = BeautifulSoup(page, \"html.parser\") \n",
        "\n",
        "  #define some lists\n",
        "  Summary=[]\n",
        "  Date=[]\n",
        "  JobTitle=[]\n",
        "  OverallRating=[]\n",
        "\n",
        "  #get the Summary\n",
        "  for x in soup.find_all('p', {'class':'mt-std mb-std mt-sm-xsm'}):\n",
        "    Summary.append(x.text)\n",
        "\n",
        "  #get the Posted Date\n",
        "  for x in soup.find_all('span', {'data-test':'review-date'}):\n",
        "    Date.append(x.text)\n",
        "\n",
        "  #get Job Title\n",
        "  for x in soup.find_all('div', {'class':'mt-xxsm mt-sm-0 ml-0 ml-sm-xsm css-1uyte9r'}):\n",
        "    JobTitle.append(x.text)\n",
        "\n",
        "   #get Overall Rating\n",
        "  for x in soup.find_all('strong', {'class':'mr-xxsm css-b63kyi'}):\n",
        "    OverallRating.append(float(x.text))\n",
        "\n",
        "  #putting everything together\n",
        "  Reviews = pd.DataFrame(list(zip(Summary, Date, JobTitle, OverallRating)), \n",
        "                    columns = ['Summary', 'Date', 'JobTitle', 'OverallRating'])\n",
        "  \n",
        "  return(Reviews)\n",
        "  #return(Summary, Date, JobTitle, AuthorLocation, OverallRating, Pros, Cons)"
      ]
    },
    {
      "cell_type": "markdown",
      "metadata": {
        "id": "aQBnJZom_N6G"
      },
      "source": [
        "##2.2 Setting the Target URL and Checking for Max number of Pages to Scrape"
      ]
    },
    {
      "cell_type": "code",
      "execution_count": null,
      "metadata": {
        "id": "IkdD5EH--Zwf"
      },
      "outputs": [],
      "source": [
        "#paste/replace the url to the first page of the company's Glassdoor review in between the \"\"\n",
        "input_url=\"https://www.glassdoor.com/Benefits/Walmart-Maternity-and-Paternity-Leave-US-BNFT23_E715_N1.htm\""
      ]
    },
    {
      "cell_type": "code",
      "execution_count": null,
      "metadata": {
        "id": "WuI1Z8Hg_CQQ"
      },
      "outputs": [],
      "source": [
        "#scraping the first page content\n",
        "hdr = {'User-Agent': 'Mozilla/5.0'}\n",
        "req = Request(input_url, headers=hdr)\n",
        "page = urlopen(req)\n",
        "soup = BeautifulSoup(page, \"html.parser\") "
      ]
    },
    {
      "cell_type": "code",
      "execution_count": null,
      "metadata": {
        "colab": {
          "base_uri": "https://localhost:8080/"
        },
        "id": "w3qrtyxi_zyP",
        "outputId": "585effba-7e81-40af-8bfb-51df604f2c75"
      },
      "outputs": [
        {
          "data": {
            "text/plain": [
              "29"
            ]
          },
          "execution_count": 35,
          "metadata": {},
          "output_type": "execute_result"
        }
      ],
      "source": [
        "#check the total number of reviews\n",
        "countReviews = soup.find('div', {'data-test':'pagination-footer-text'}).text\n",
        "countReviews = float(countReviews.split(' Reviews')[0].split('of ')[1].replace(',',''))\n",
        "\n",
        "#calculate the max number of pages (assuming 10 reviews a page)\n",
        "countPages = math.ceil(countReviews/10)\n",
        "countPages"
      ]
    },
    {
      "cell_type": "markdown",
      "metadata": {
        "id": "NkZwftry9tLU"
      },
      "source": [
        "##2.3 Scraping Multiple Pages of Glassdoor Company Review"
      ]
    },
    {
      "cell_type": "code",
      "execution_count": null,
      "metadata": {
        "id": "UzUXCwOx7zJx"
      },
      "outputs": [],
      "source": [
        "#I'm setting the max pages to scrape to 3 here to save time\n",
        "maxPage = 3 + 1\n",
        "#uncomment the line below to set the max page to scrape (based on total number of reviews)\n",
        "#maxPage = countPages + 1"
      ]
    },
    {
      "cell_type": "code",
      "execution_count": null,
      "metadata": {
        "id": "rXhPnLQt28on"
      },
      "outputs": [],
      "source": [
        "output = review_scraper(url=input_url)"
      ]
    },
    {
      "cell_type": "code",
      "execution_count": null,
      "metadata": {
        "colab": {
          "base_uri": "https://localhost:8080/"
        },
        "id": "DUdkKM1u2_Hw",
        "outputId": "dfa4faac-6cf6-42c3-e2bb-9c1d1b032c77"
      },
      "outputs": [
        {
          "name": "stdout",
          "output_type": "stream",
          "text": [
            "                                             Summary          Date  \\\n",
            "0  I dont really know much about it I do know you...  Sep 19, 2022   \n",
            "1  I was able to take 4 months fully paid materni...  Sep 18, 2022   \n",
            "2                       Available for up to 16 weeks  Sep 16, 2022   \n",
            "3                 as usual not more that competitors   Sep 8, 2022   \n",
            "4  It is fairly long comapared to others, you can...   Sep 1, 2022   \n",
            "5                Maternity leave of absence 3 months  Aug 23, 2022   \n",
            "6       generous benefits for both mother and father  Aug 15, 2022   \n",
            "7                            Nothing is bad about it   Aug 7, 2022   \n",
            "8  Available for full time associates with 1 year...   Aug 1, 2022   \n",
            "9                             12 weeks paid time off  Jul 20, 2022   \n",
            "\n",
            "                                            JobTitle  OverallRating  \n",
            "0                         Current Claims in nullnull            3.0  \n",
            "1                                    Former Employee            5.0  \n",
            "2                                   Current Employee            4.0  \n",
            "3             Former Inventory Associate in nullnull            5.0  \n",
            "4  Current Customer Service Representative (CSR) ...            3.0  \n",
            "5           Current Fufillment Associate in nullnull            5.0  \n",
            "6                                   Current Employee            5.0  \n",
            "7                                    Former Employee            5.0  \n",
            "8                    Current People Lead in nullnull            5.0  \n",
            "9                                   Current Employee            5.0  \n"
          ]
        }
      ],
      "source": [
        "print(output)"
      ]
    },
    {
      "cell_type": "code",
      "execution_count": null,
      "metadata": {
        "colab": {
          "base_uri": "https://localhost:8080/",
          "height": 990
        },
        "id": "vEhmX0FoCvCQ",
        "outputId": "ff82f5ab-cd8a-48a2-8ef0-4fcf3fa3b896"
      },
      "outputs": [
        {
          "data": {
            "text/html": [
              "\n",
              "  <div id=\"df-1b759ca5-9440-4b95-b46a-ea72884a8aea\">\n",
              "    <div class=\"colab-df-container\">\n",
              "      <div>\n",
              "<style scoped>\n",
              "    .dataframe tbody tr th:only-of-type {\n",
              "        vertical-align: middle;\n",
              "    }\n",
              "\n",
              "    .dataframe tbody tr th {\n",
              "        vertical-align: top;\n",
              "    }\n",
              "\n",
              "    .dataframe thead th {\n",
              "        text-align: right;\n",
              "    }\n",
              "</style>\n",
              "<table border=\"1\" class=\"dataframe\">\n",
              "  <thead>\n",
              "    <tr style=\"text-align: right;\">\n",
              "      <th></th>\n",
              "      <th>Summary</th>\n",
              "      <th>Date</th>\n",
              "      <th>JobTitle</th>\n",
              "      <th>OverallRating</th>\n",
              "    </tr>\n",
              "  </thead>\n",
              "  <tbody>\n",
              "    <tr>\n",
              "      <th>0</th>\n",
              "      <td>I dont really know much about it I do know you...</td>\n",
              "      <td>Sep 19, 2022</td>\n",
              "      <td>Current Claims in nullnull</td>\n",
              "      <td>3.0</td>\n",
              "    </tr>\n",
              "    <tr>\n",
              "      <th>1</th>\n",
              "      <td>I was able to take 4 months fully paid materni...</td>\n",
              "      <td>Sep 18, 2022</td>\n",
              "      <td>Former Employee</td>\n",
              "      <td>5.0</td>\n",
              "    </tr>\n",
              "    <tr>\n",
              "      <th>2</th>\n",
              "      <td>Available for up to 16 weeks</td>\n",
              "      <td>Sep 16, 2022</td>\n",
              "      <td>Current Employee</td>\n",
              "      <td>4.0</td>\n",
              "    </tr>\n",
              "    <tr>\n",
              "      <th>3</th>\n",
              "      <td>as usual not more that competitors</td>\n",
              "      <td>Sep 8, 2022</td>\n",
              "      <td>Former Inventory Associate in nullnull</td>\n",
              "      <td>5.0</td>\n",
              "    </tr>\n",
              "    <tr>\n",
              "      <th>4</th>\n",
              "      <td>It is fairly long comapared to others, you can...</td>\n",
              "      <td>Sep 1, 2022</td>\n",
              "      <td>Current Customer Service Representative (CSR) ...</td>\n",
              "      <td>3.0</td>\n",
              "    </tr>\n",
              "    <tr>\n",
              "      <th>5</th>\n",
              "      <td>Maternity leave of absence 3 months</td>\n",
              "      <td>Aug 23, 2022</td>\n",
              "      <td>Current Fufillment Associate in nullnull</td>\n",
              "      <td>5.0</td>\n",
              "    </tr>\n",
              "    <tr>\n",
              "      <th>6</th>\n",
              "      <td>generous benefits for both mother and father</td>\n",
              "      <td>Aug 15, 2022</td>\n",
              "      <td>Current Employee</td>\n",
              "      <td>5.0</td>\n",
              "    </tr>\n",
              "    <tr>\n",
              "      <th>7</th>\n",
              "      <td>Nothing is bad about it</td>\n",
              "      <td>Aug 7, 2022</td>\n",
              "      <td>Former Employee</td>\n",
              "      <td>5.0</td>\n",
              "    </tr>\n",
              "    <tr>\n",
              "      <th>8</th>\n",
              "      <td>Available for full time associates with 1 year...</td>\n",
              "      <td>Aug 1, 2022</td>\n",
              "      <td>Current People Lead in nullnull</td>\n",
              "      <td>5.0</td>\n",
              "    </tr>\n",
              "    <tr>\n",
              "      <th>9</th>\n",
              "      <td>12 weeks paid time off</td>\n",
              "      <td>Jul 20, 2022</td>\n",
              "      <td>Current Employee</td>\n",
              "      <td>5.0</td>\n",
              "    </tr>\n",
              "    <tr>\n",
              "      <th>10</th>\n",
              "      <td>Best is the care and the amount of time off</td>\n",
              "      <td>Jul 5, 2022</td>\n",
              "      <td>Former Cashier in nullnull</td>\n",
              "      <td>3.0</td>\n",
              "    </tr>\n",
              "    <tr>\n",
              "      <th>11</th>\n",
              "      <td>\\r\\nallows you to take rest time with your family</td>\n",
              "      <td>Jun 9, 2022</td>\n",
              "      <td>Current Garden Sales Associate in Burlington, ...</td>\n",
              "      <td>5.0</td>\n",
              "    </tr>\n",
              "    <tr>\n",
              "      <th>12</th>\n",
              "      <td>16 weeks paid leave for moms</td>\n",
              "      <td>May 9, 2022</td>\n",
              "      <td>Current Employee</td>\n",
              "      <td>5.0</td>\n",
              "    </tr>\n",
              "    <tr>\n",
              "      <th>13</th>\n",
              "      <td>In ny can get up to 16 weeks at full pay</td>\n",
              "      <td>May 3, 2022</td>\n",
              "      <td>Current People Lead in New York, NY, New York ...</td>\n",
              "      <td>5.0</td>\n",
              "    </tr>\n",
              "    <tr>\n",
              "      <th>14</th>\n",
              "      <td>They are flexible and understanding</td>\n",
              "      <td>Apr 26, 2022</td>\n",
              "      <td>Current Overnight Stocker in Duluth, MN, Minne...</td>\n",
              "      <td>4.0</td>\n",
              "    </tr>\n",
              "    <tr>\n",
              "      <th>15</th>\n",
              "      <td>it was great for when i had my child they real...</td>\n",
              "      <td>Apr 23, 2022</td>\n",
              "      <td>Former Personal Shopper/OGP in Berlin, NJ, New...</td>\n",
              "      <td>5.0</td>\n",
              "    </tr>\n",
              "    <tr>\n",
              "      <th>16</th>\n",
              "      <td>For full time workers who have been there over...</td>\n",
              "      <td>Apr 22, 2022</td>\n",
              "      <td>Current Bakery Clerk in Rexburg, ID, Idaho</td>\n",
              "      <td>5.0</td>\n",
              "    </tr>\n",
              "    <tr>\n",
              "      <th>17</th>\n",
              "      <td>I didn’t have maternity leave</td>\n",
              "      <td>Apr 21, 2022</td>\n",
              "      <td>Former Employee</td>\n",
              "      <td>1.0</td>\n",
              "    </tr>\n",
              "    <tr>\n",
              "      <th>18</th>\n",
              "      <td>It is good now because you get 16 weeks off.</td>\n",
              "      <td>Apr 13, 2022</td>\n",
              "      <td>Former Assistant Manager in Fort Worth, TX, Texas</td>\n",
              "      <td>5.0</td>\n",
              "    </tr>\n",
              "    <tr>\n",
              "      <th>19</th>\n",
              "      <td>Have heard good things about this, but haven't...</td>\n",
              "      <td>Mar 17, 2022</td>\n",
              "      <td>Current Employee</td>\n",
              "      <td>5.0</td>\n",
              "    </tr>\n",
              "    <tr>\n",
              "      <th>20</th>\n",
              "      <td>Both parents are allowed to take off for the baby</td>\n",
              "      <td>Mar 3, 2022</td>\n",
              "      <td>Current Pharmacist in Tulsa, OK, Oklahoma</td>\n",
              "      <td>1.0</td>\n",
              "    </tr>\n",
              "    <tr>\n",
              "      <th>21</th>\n",
              "      <td>Yes and is the words</td>\n",
              "      <td>Mar 2, 2022</td>\n",
              "      <td>Former Sales Associate in Dothan, AL, Alabama</td>\n",
              "      <td>5.0</td>\n",
              "    </tr>\n",
              "    <tr>\n",
              "      <th>22</th>\n",
              "      <td>You will always be able to take a maternity an...</td>\n",
              "      <td>Feb 17, 2022</td>\n",
              "      <td>Former Team Member in Magnolia, AR, Arkansas</td>\n",
              "      <td>4.0</td>\n",
              "    </tr>\n",
              "    <tr>\n",
              "      <th>23</th>\n",
              "      <td>From what I have heard, Walmart offers Materni...</td>\n",
              "      <td>Feb 17, 2022</td>\n",
              "      <td>Current Online Grocery Pickup Associate in Kil...</td>\n",
              "      <td>4.0</td>\n",
              "    </tr>\n",
              "    <tr>\n",
              "      <th>24</th>\n",
              "      <td>Regular maternity leave for after child birth</td>\n",
              "      <td>Feb 3, 2022</td>\n",
              "      <td>Current Cashier in Bakersfield, CA, California</td>\n",
              "      <td>5.0</td>\n",
              "    </tr>\n",
              "    <tr>\n",
              "      <th>25</th>\n",
              "      <td>This is where Walmart falls very short. There ...</td>\n",
              "      <td>Jan 25, 2022</td>\n",
              "      <td>Current Manager in Chicago, IL, Illinois</td>\n",
              "      <td>1.0</td>\n",
              "    </tr>\n",
              "    <tr>\n",
              "      <th>26</th>\n",
              "      <td>Great. Men and women get this benefit which I ...</td>\n",
              "      <td>Jan 6, 2022</td>\n",
              "      <td>Former Assistant Manager in Mount Vernon, MO, ...</td>\n",
              "      <td>5.0</td>\n",
              "    </tr>\n",
              "    <tr>\n",
              "      <th>27</th>\n",
              "      <td>Never used it though I've heard good things fr...</td>\n",
              "      <td>Dec 30, 2021</td>\n",
              "      <td>Former People Lead in Leesburg, VA, Virginia</td>\n",
              "      <td>5.0</td>\n",
              "    </tr>\n",
              "    <tr>\n",
              "      <th>28</th>\n",
              "      <td>Both mother and father are able to utilize thi...</td>\n",
              "      <td>Dec 24, 2021</td>\n",
              "      <td>Current Area Manager in Fort Worth, TX, Texas</td>\n",
              "      <td>5.0</td>\n",
              "    </tr>\n",
              "    <tr>\n",
              "      <th>29</th>\n",
              "      <td>Not too shabby. Good package.</td>\n",
              "      <td>Dec 5, 2021</td>\n",
              "      <td>Former Employee</td>\n",
              "      <td>4.0</td>\n",
              "    </tr>\n",
              "  </tbody>\n",
              "</table>\n",
              "</div>\n",
              "      <button class=\"colab-df-convert\" onclick=\"convertToInteractive('df-1b759ca5-9440-4b95-b46a-ea72884a8aea')\"\n",
              "              title=\"Convert this dataframe to an interactive table.\"\n",
              "              style=\"display:none;\">\n",
              "        \n",
              "  <svg xmlns=\"http://www.w3.org/2000/svg\" height=\"24px\"viewBox=\"0 0 24 24\"\n",
              "       width=\"24px\">\n",
              "    <path d=\"M0 0h24v24H0V0z\" fill=\"none\"/>\n",
              "    <path d=\"M18.56 5.44l.94 2.06.94-2.06 2.06-.94-2.06-.94-.94-2.06-.94 2.06-2.06.94zm-11 1L8.5 8.5l.94-2.06 2.06-.94-2.06-.94L8.5 2.5l-.94 2.06-2.06.94zm10 10l.94 2.06.94-2.06 2.06-.94-2.06-.94-.94-2.06-.94 2.06-2.06.94z\"/><path d=\"M17.41 7.96l-1.37-1.37c-.4-.4-.92-.59-1.43-.59-.52 0-1.04.2-1.43.59L10.3 9.45l-7.72 7.72c-.78.78-.78 2.05 0 2.83L4 21.41c.39.39.9.59 1.41.59.51 0 1.02-.2 1.41-.59l7.78-7.78 2.81-2.81c.8-.78.8-2.07 0-2.86zM5.41 20L4 18.59l7.72-7.72 1.47 1.35L5.41 20z\"/>\n",
              "  </svg>\n",
              "      </button>\n",
              "      \n",
              "  <style>\n",
              "    .colab-df-container {\n",
              "      display:flex;\n",
              "      flex-wrap:wrap;\n",
              "      gap: 12px;\n",
              "    }\n",
              "\n",
              "    .colab-df-convert {\n",
              "      background-color: #E8F0FE;\n",
              "      border: none;\n",
              "      border-radius: 50%;\n",
              "      cursor: pointer;\n",
              "      display: none;\n",
              "      fill: #1967D2;\n",
              "      height: 32px;\n",
              "      padding: 0 0 0 0;\n",
              "      width: 32px;\n",
              "    }\n",
              "\n",
              "    .colab-df-convert:hover {\n",
              "      background-color: #E2EBFA;\n",
              "      box-shadow: 0px 1px 2px rgba(60, 64, 67, 0.3), 0px 1px 3px 1px rgba(60, 64, 67, 0.15);\n",
              "      fill: #174EA6;\n",
              "    }\n",
              "\n",
              "    [theme=dark] .colab-df-convert {\n",
              "      background-color: #3B4455;\n",
              "      fill: #D2E3FC;\n",
              "    }\n",
              "\n",
              "    [theme=dark] .colab-df-convert:hover {\n",
              "      background-color: #434B5C;\n",
              "      box-shadow: 0px 1px 3px 1px rgba(0, 0, 0, 0.15);\n",
              "      filter: drop-shadow(0px 1px 2px rgba(0, 0, 0, 0.3));\n",
              "      fill: #FFFFFF;\n",
              "    }\n",
              "  </style>\n",
              "\n",
              "      <script>\n",
              "        const buttonEl =\n",
              "          document.querySelector('#df-1b759ca5-9440-4b95-b46a-ea72884a8aea button.colab-df-convert');\n",
              "        buttonEl.style.display =\n",
              "          google.colab.kernel.accessAllowed ? 'block' : 'none';\n",
              "\n",
              "        async function convertToInteractive(key) {\n",
              "          const element = document.querySelector('#df-1b759ca5-9440-4b95-b46a-ea72884a8aea');\n",
              "          const dataTable =\n",
              "            await google.colab.kernel.invokeFunction('convertToInteractive',\n",
              "                                                     [key], {});\n",
              "          if (!dataTable) return;\n",
              "\n",
              "          const docLinkHtml = 'Like what you see? Visit the ' +\n",
              "            '<a target=\"_blank\" href=https://colab.research.google.com/notebooks/data_table.ipynb>data table notebook</a>'\n",
              "            + ' to learn more about interactive tables.';\n",
              "          element.innerHTML = '';\n",
              "          dataTable['output_type'] = 'display_data';\n",
              "          await google.colab.output.renderOutput(dataTable, element);\n",
              "          const docLink = document.createElement('div');\n",
              "          docLink.innerHTML = docLinkHtml;\n",
              "          element.appendChild(docLink);\n",
              "        }\n",
              "      </script>\n",
              "    </div>\n",
              "  </div>\n",
              "  "
            ],
            "text/plain": [
              "                                              Summary          Date  \\\n",
              "0   I dont really know much about it I do know you...  Sep 19, 2022   \n",
              "1   I was able to take 4 months fully paid materni...  Sep 18, 2022   \n",
              "2                        Available for up to 16 weeks  Sep 16, 2022   \n",
              "3                  as usual not more that competitors   Sep 8, 2022   \n",
              "4   It is fairly long comapared to others, you can...   Sep 1, 2022   \n",
              "5                 Maternity leave of absence 3 months  Aug 23, 2022   \n",
              "6        generous benefits for both mother and father  Aug 15, 2022   \n",
              "7                             Nothing is bad about it   Aug 7, 2022   \n",
              "8   Available for full time associates with 1 year...   Aug 1, 2022   \n",
              "9                              12 weeks paid time off  Jul 20, 2022   \n",
              "10        Best is the care and the amount of time off   Jul 5, 2022   \n",
              "11  \\r\\nallows you to take rest time with your family   Jun 9, 2022   \n",
              "12                       16 weeks paid leave for moms   May 9, 2022   \n",
              "13           In ny can get up to 16 weeks at full pay   May 3, 2022   \n",
              "14               They are flexible and understanding   Apr 26, 2022   \n",
              "15  it was great for when i had my child they real...  Apr 23, 2022   \n",
              "16  For full time workers who have been there over...  Apr 22, 2022   \n",
              "17                     I didn’t have maternity leave   Apr 21, 2022   \n",
              "18       It is good now because you get 16 weeks off.  Apr 13, 2022   \n",
              "19  Have heard good things about this, but haven't...  Mar 17, 2022   \n",
              "20  Both parents are allowed to take off for the baby   Mar 3, 2022   \n",
              "21                               Yes and is the words   Mar 2, 2022   \n",
              "22  You will always be able to take a maternity an...  Feb 17, 2022   \n",
              "23  From what I have heard, Walmart offers Materni...  Feb 17, 2022   \n",
              "24     Regular maternity leave for after child birth    Feb 3, 2022   \n",
              "25  This is where Walmart falls very short. There ...  Jan 25, 2022   \n",
              "26  Great. Men and women get this benefit which I ...   Jan 6, 2022   \n",
              "27  Never used it though I've heard good things fr...  Dec 30, 2021   \n",
              "28  Both mother and father are able to utilize thi...  Dec 24, 2021   \n",
              "29                      Not too shabby. Good package.   Dec 5, 2021   \n",
              "\n",
              "                                             JobTitle  OverallRating  \n",
              "0                          Current Claims in nullnull            3.0  \n",
              "1                                     Former Employee            5.0  \n",
              "2                                    Current Employee            4.0  \n",
              "3              Former Inventory Associate in nullnull            5.0  \n",
              "4   Current Customer Service Representative (CSR) ...            3.0  \n",
              "5            Current Fufillment Associate in nullnull            5.0  \n",
              "6                                    Current Employee            5.0  \n",
              "7                                     Former Employee            5.0  \n",
              "8                     Current People Lead in nullnull            5.0  \n",
              "9                                    Current Employee            5.0  \n",
              "10                         Former Cashier in nullnull            3.0  \n",
              "11  Current Garden Sales Associate in Burlington, ...            5.0  \n",
              "12                                   Current Employee            5.0  \n",
              "13  Current People Lead in New York, NY, New York ...            5.0  \n",
              "14  Current Overnight Stocker in Duluth, MN, Minne...            4.0  \n",
              "15  Former Personal Shopper/OGP in Berlin, NJ, New...            5.0  \n",
              "16         Current Bakery Clerk in Rexburg, ID, Idaho            5.0  \n",
              "17                                    Former Employee            1.0  \n",
              "18  Former Assistant Manager in Fort Worth, TX, Texas            5.0  \n",
              "19                                   Current Employee            5.0  \n",
              "20          Current Pharmacist in Tulsa, OK, Oklahoma            1.0  \n",
              "21      Former Sales Associate in Dothan, AL, Alabama            5.0  \n",
              "22       Former Team Member in Magnolia, AR, Arkansas            4.0  \n",
              "23  Current Online Grocery Pickup Associate in Kil...            4.0  \n",
              "24     Current Cashier in Bakersfield, CA, California            5.0  \n",
              "25           Current Manager in Chicago, IL, Illinois            1.0  \n",
              "26  Former Assistant Manager in Mount Vernon, MO, ...            5.0  \n",
              "27       Former People Lead in Leesburg, VA, Virginia            5.0  \n",
              "28      Current Area Manager in Fort Worth, TX, Texas            5.0  \n",
              "29                                    Former Employee            4.0  "
            ]
          },
          "metadata": {},
          "output_type": "display_data"
        }
      ],
      "source": [
        "#scraping multiple pages of company glassdoor review\n",
        "output = review_scraper(url=input_url)\n",
        "for x in range(2,maxPage):\n",
        "  input_url=\"https://www.glassdoor.com/Benefits/Walmart-Maternity-and-Paternity-Leave-US-BNFT23_E715_N1_IP{}.htm\".format(x)\n",
        "  output = output.append(review_scraper(url=input_url), ignore_index=True)\n",
        "#display the output\n",
        "display(output)"
      ]
    },
    {
      "cell_type": "markdown",
      "metadata": {
        "id": "dCeWq8IH82oV"
      },
      "source": [
        "Scraping the Top 50 companies in United State Reviews Parental leave"
      ]
    },
    {
      "cell_type": "code",
      "execution_count": 3,
      "metadata": {
        "colab": {
          "base_uri": "https://localhost:8080/"
        },
        "id": "ivOE8Igy9JPX",
        "outputId": "4eeb49ff-a93a-4cfd-87f6-2a0ed36c39da"
      },
      "outputs": [
        {
          "output_type": "stream",
          "name": "stdout",
          "text": [
            "Mounted at /content/drive\n"
          ]
        }
      ],
      "source": [
        "from google.colab import drive\n",
        "drive.mount('/content/drive',force_remount=True)"
      ]
    },
    {
      "cell_type": "code",
      "execution_count": 4,
      "metadata": {
        "colab": {
          "base_uri": "https://localhost:8080/"
        },
        "id": "cjpda8_E9N5y",
        "outputId": "45546eb4-3ed2-40ac-9760-1c6e8cc615ab"
      },
      "outputs": [
        {
          "output_type": "stream",
          "name": "stdout",
          "text": [
            "/content/drive/MyDrive/Datathon\n"
          ]
        }
      ],
      "source": [
        "%cd drive/MyDrive/Datathon/"
      ]
    },
    {
      "cell_type": "code",
      "execution_count": 5,
      "metadata": {
        "id": "hGD0P1qn9FSC"
      },
      "outputs": [],
      "source": [
        "large_companies = pd.read_excel('large_companies.xlsx',sheet_name='Paid leave review links')"
      ]
    },
    {
      "cell_type": "code",
      "execution_count": 6,
      "metadata": {
        "colab": {
          "base_uri": "https://localhost:8080/",
          "height": 206
        },
        "id": "kPXiGk-D-Id6",
        "outputId": "a01705a4-74ad-4021-e5d5-738451e3ffef"
      },
      "outputs": [
        {
          "output_type": "execute_result",
          "data": {
            "text/plain": [
              "   Rank             Company                                 Url  \\\n",
              "0   1.0             Walmart            https://www.walmart.com/   \n",
              "1   2.0              Amazon             https://www.amazon.com/   \n",
              "2   3.0               Apple              https://www.apple.com/   \n",
              "3   4.0          CVS Health          https://www.cvshealth.com/   \n",
              "4   5.0  UnitedHealth Group  https://www.unitedhealthgroup.com/   \n",
              "\n",
              "   avg_paid_leave_2022                  glassdoor_paid_leave_reviews_link  \n",
              "0                  3.9  https://www.glassdoor.com/Benefits/Walmart-Mat...  \n",
              "1                  4.1  https://www.glassdoor.com/Benefits/Amazon-Mate...  \n",
              "2                  4.6  https://www.glassdoor.com/Benefits/Apple-Mater...  \n",
              "3                  3.2  https://www.glassdoor.com/Benefits/CVS-Health-...  \n",
              "4                  3.6  https://www.glassdoor.com/Benefits/UnitedHealt...  "
            ],
            "text/html": [
              "\n",
              "  <div id=\"df-5c6d364a-d9b3-4d25-ba74-d32ace82eef3\">\n",
              "    <div class=\"colab-df-container\">\n",
              "      <div>\n",
              "<style scoped>\n",
              "    .dataframe tbody tr th:only-of-type {\n",
              "        vertical-align: middle;\n",
              "    }\n",
              "\n",
              "    .dataframe tbody tr th {\n",
              "        vertical-align: top;\n",
              "    }\n",
              "\n",
              "    .dataframe thead th {\n",
              "        text-align: right;\n",
              "    }\n",
              "</style>\n",
              "<table border=\"1\" class=\"dataframe\">\n",
              "  <thead>\n",
              "    <tr style=\"text-align: right;\">\n",
              "      <th></th>\n",
              "      <th>Rank</th>\n",
              "      <th>Company</th>\n",
              "      <th>Url</th>\n",
              "      <th>avg_paid_leave_2022</th>\n",
              "      <th>glassdoor_paid_leave_reviews_link</th>\n",
              "    </tr>\n",
              "  </thead>\n",
              "  <tbody>\n",
              "    <tr>\n",
              "      <th>0</th>\n",
              "      <td>1.0</td>\n",
              "      <td>Walmart</td>\n",
              "      <td>https://www.walmart.com/</td>\n",
              "      <td>3.9</td>\n",
              "      <td>https://www.glassdoor.com/Benefits/Walmart-Mat...</td>\n",
              "    </tr>\n",
              "    <tr>\n",
              "      <th>1</th>\n",
              "      <td>2.0</td>\n",
              "      <td>Amazon</td>\n",
              "      <td>https://www.amazon.com/</td>\n",
              "      <td>4.1</td>\n",
              "      <td>https://www.glassdoor.com/Benefits/Amazon-Mate...</td>\n",
              "    </tr>\n",
              "    <tr>\n",
              "      <th>2</th>\n",
              "      <td>3.0</td>\n",
              "      <td>Apple</td>\n",
              "      <td>https://www.apple.com/</td>\n",
              "      <td>4.6</td>\n",
              "      <td>https://www.glassdoor.com/Benefits/Apple-Mater...</td>\n",
              "    </tr>\n",
              "    <tr>\n",
              "      <th>3</th>\n",
              "      <td>4.0</td>\n",
              "      <td>CVS Health</td>\n",
              "      <td>https://www.cvshealth.com/</td>\n",
              "      <td>3.2</td>\n",
              "      <td>https://www.glassdoor.com/Benefits/CVS-Health-...</td>\n",
              "    </tr>\n",
              "    <tr>\n",
              "      <th>4</th>\n",
              "      <td>5.0</td>\n",
              "      <td>UnitedHealth Group</td>\n",
              "      <td>https://www.unitedhealthgroup.com/</td>\n",
              "      <td>3.6</td>\n",
              "      <td>https://www.glassdoor.com/Benefits/UnitedHealt...</td>\n",
              "    </tr>\n",
              "  </tbody>\n",
              "</table>\n",
              "</div>\n",
              "      <button class=\"colab-df-convert\" onclick=\"convertToInteractive('df-5c6d364a-d9b3-4d25-ba74-d32ace82eef3')\"\n",
              "              title=\"Convert this dataframe to an interactive table.\"\n",
              "              style=\"display:none;\">\n",
              "        \n",
              "  <svg xmlns=\"http://www.w3.org/2000/svg\" height=\"24px\"viewBox=\"0 0 24 24\"\n",
              "       width=\"24px\">\n",
              "    <path d=\"M0 0h24v24H0V0z\" fill=\"none\"/>\n",
              "    <path d=\"M18.56 5.44l.94 2.06.94-2.06 2.06-.94-2.06-.94-.94-2.06-.94 2.06-2.06.94zm-11 1L8.5 8.5l.94-2.06 2.06-.94-2.06-.94L8.5 2.5l-.94 2.06-2.06.94zm10 10l.94 2.06.94-2.06 2.06-.94-2.06-.94-.94-2.06-.94 2.06-2.06.94z\"/><path d=\"M17.41 7.96l-1.37-1.37c-.4-.4-.92-.59-1.43-.59-.52 0-1.04.2-1.43.59L10.3 9.45l-7.72 7.72c-.78.78-.78 2.05 0 2.83L4 21.41c.39.39.9.59 1.41.59.51 0 1.02-.2 1.41-.59l7.78-7.78 2.81-2.81c.8-.78.8-2.07 0-2.86zM5.41 20L4 18.59l7.72-7.72 1.47 1.35L5.41 20z\"/>\n",
              "  </svg>\n",
              "      </button>\n",
              "      \n",
              "  <style>\n",
              "    .colab-df-container {\n",
              "      display:flex;\n",
              "      flex-wrap:wrap;\n",
              "      gap: 12px;\n",
              "    }\n",
              "\n",
              "    .colab-df-convert {\n",
              "      background-color: #E8F0FE;\n",
              "      border: none;\n",
              "      border-radius: 50%;\n",
              "      cursor: pointer;\n",
              "      display: none;\n",
              "      fill: #1967D2;\n",
              "      height: 32px;\n",
              "      padding: 0 0 0 0;\n",
              "      width: 32px;\n",
              "    }\n",
              "\n",
              "    .colab-df-convert:hover {\n",
              "      background-color: #E2EBFA;\n",
              "      box-shadow: 0px 1px 2px rgba(60, 64, 67, 0.3), 0px 1px 3px 1px rgba(60, 64, 67, 0.15);\n",
              "      fill: #174EA6;\n",
              "    }\n",
              "\n",
              "    [theme=dark] .colab-df-convert {\n",
              "      background-color: #3B4455;\n",
              "      fill: #D2E3FC;\n",
              "    }\n",
              "\n",
              "    [theme=dark] .colab-df-convert:hover {\n",
              "      background-color: #434B5C;\n",
              "      box-shadow: 0px 1px 3px 1px rgba(0, 0, 0, 0.15);\n",
              "      filter: drop-shadow(0px 1px 2px rgba(0, 0, 0, 0.3));\n",
              "      fill: #FFFFFF;\n",
              "    }\n",
              "  </style>\n",
              "\n",
              "      <script>\n",
              "        const buttonEl =\n",
              "          document.querySelector('#df-5c6d364a-d9b3-4d25-ba74-d32ace82eef3 button.colab-df-convert');\n",
              "        buttonEl.style.display =\n",
              "          google.colab.kernel.accessAllowed ? 'block' : 'none';\n",
              "\n",
              "        async function convertToInteractive(key) {\n",
              "          const element = document.querySelector('#df-5c6d364a-d9b3-4d25-ba74-d32ace82eef3');\n",
              "          const dataTable =\n",
              "            await google.colab.kernel.invokeFunction('convertToInteractive',\n",
              "                                                     [key], {});\n",
              "          if (!dataTable) return;\n",
              "\n",
              "          const docLinkHtml = 'Like what you see? Visit the ' +\n",
              "            '<a target=\"_blank\" href=https://colab.research.google.com/notebooks/data_table.ipynb>data table notebook</a>'\n",
              "            + ' to learn more about interactive tables.';\n",
              "          element.innerHTML = '';\n",
              "          dataTable['output_type'] = 'display_data';\n",
              "          await google.colab.output.renderOutput(dataTable, element);\n",
              "          const docLink = document.createElement('div');\n",
              "          docLink.innerHTML = docLinkHtml;\n",
              "          element.appendChild(docLink);\n",
              "        }\n",
              "      </script>\n",
              "    </div>\n",
              "  </div>\n",
              "  "
            ]
          },
          "metadata": {},
          "execution_count": 6
        }
      ],
      "source": [
        "large_companies.head(5)"
      ]
    },
    {
      "cell_type": "code",
      "execution_count": 7,
      "metadata": {
        "id": "T6jeRY4CFDca"
      },
      "outputs": [],
      "source": [
        "companies = large_companies.Company.values\n",
        "company_urls = large_companies.glassdoor_paid_leave_reviews_link.values"
      ]
    },
    {
      "cell_type": "code",
      "execution_count": 14,
      "metadata": {
        "colab": {
          "base_uri": "https://localhost:8080/",
          "height": 35
        },
        "id": "T56duI2PU0QB",
        "outputId": "743fab0d-ae10-43fa-e5d6-9355114a3dac"
      },
      "outputs": [
        {
          "output_type": "execute_result",
          "data": {
            "text/plain": [
              "'Lowes'"
            ],
            "application/vnd.google.colaboratory.intrinsic+json": {
              "type": "string"
            }
          },
          "metadata": {},
          "execution_count": 14
        }
      ],
      "source": [
        "companies[33]"
      ]
    },
    {
      "cell_type": "code",
      "source": [
        "company_urls[33]"
      ],
      "metadata": {
        "colab": {
          "base_uri": "https://localhost:8080/",
          "height": 35
        },
        "id": "yfzIUrx0-33i",
        "outputId": "776f3a62-a750-4bc7-dbb3-c75c3d26be17"
      },
      "execution_count": 15,
      "outputs": [
        {
          "output_type": "execute_result",
          "data": {
            "text/plain": [
              "'https://www.glassdoor.com/Benefits/Lowe-s-Home-Improvement-Maternity-and-Paternity-Leave-US-BNFT23_E415_N1.htm'"
            ],
            "application/vnd.google.colaboratory.intrinsic+json": {
              "type": "string"
            }
          },
          "metadata": {},
          "execution_count": 15
        }
      ]
    },
    {
      "cell_type": "code",
      "execution_count": null,
      "metadata": {
        "colab": {
          "base_uri": "https://localhost:8080/"
        },
        "id": "1Ez_5J2aFSXE",
        "outputId": "3c543d71-7356-4924-89bd-820d2fb20240"
      },
      "outputs": [
        {
          "data": {
            "text/plain": [
              "['https://www.glassdoor.com/Benefits/Walmart-Maternity-and-Paternity-Leave-US-BNFT23_E715_N1',\n",
              " '']"
            ]
          },
          "execution_count": 32,
          "metadata": {},
          "output_type": "execute_result"
        }
      ],
      "source": [
        "company_urls[0].split('.htm')"
      ]
    },
    {
      "cell_type": "code",
      "execution_count": 17,
      "metadata": {
        "colab": {
          "base_uri": "https://localhost:8080/"
        },
        "id": "nHCpdmPF-RlN",
        "outputId": "d48be879-c88b-42cd-edc7-6122a64706b7"
      },
      "outputs": [
        {
          "output_type": "stream",
          "name": "stdout",
          "text": [
            "Scraping Lowes Reviews\n",
            "Finished Scraping Lowes Reviews\n"
          ]
        }
      ],
      "source": [
        "for i in range(1,len(companies)):\n",
        "#for i in range(33,34):\n",
        "  print(f'Scraping {companies[i]} Reviews')\n",
        "  input_url = company_urls[i]\n",
        "  output = review_scraper(url=input_url)\n",
        "  for x in range(2,50):\n",
        "   # print(f'On Page {x}')\n",
        "    input_url = company_urls[i].split('.htm')[0]\n",
        "    input_url=input_url + \"_IP{}.htm\".format(x)\n",
        "    output = output.append(review_scraper(url=input_url), ignore_index=True)\n",
        "  output['company'] = companies[i]\n",
        "  joblib.dump(output,f'./paid_leave_reviews/paid_leave_reviews_{companies[i]}.pkl')\n",
        "  print(f'Finished Scraping {companies[i]} Reviews')"
      ]
    }
  ],
  "metadata": {
    "colab": {
      "collapsed_sections": [],
      "machine_shape": "hm",
      "provenance": [],
      "include_colab_link": true
    },
    "kernelspec": {
      "display_name": "Python 3",
      "name": "python3"
    },
    "language_info": {
      "name": "python"
    }
  },
  "nbformat": 4,
  "nbformat_minor": 0
}